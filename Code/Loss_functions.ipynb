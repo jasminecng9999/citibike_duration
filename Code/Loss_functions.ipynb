{
 "cells": [
  {
   "cell_type": "code",
   "execution_count": 2,
   "metadata": {},
   "outputs": [
    {
     "name": "stdout",
     "output_type": "stream",
     "text": [
      "\u001b[32m\u001b[1m  Updating\u001b[22m\u001b[39m registry at `~/.julia/registries/General`\n",
      "\u001b[32m\u001b[1m  Updating\u001b[22m\u001b[39m git-repo `https://github.com/JuliaRegistries/General.git`\n",
      "\u001b[2K\u001b[?25h[1mFetching:\u001b[22m\u001b[39m [========================================>]  100.0 %.0 %\u001b[32m\u001b[1m Resolving\u001b[22m\u001b[39m package versions...\n",
      "\u001b[32m\u001b[1m Installed\u001b[22m\u001b[39m Optim ─ v0.19.7\n",
      "\u001b[32m\u001b[1m  Updating\u001b[22m\u001b[39m `~/.julia/environments/v1.2/Project.toml`\n",
      "\u001b[90m [no changes]\u001b[39m\n",
      "\u001b[32m\u001b[1m  Updating\u001b[22m\u001b[39m `~/.julia/environments/v1.2/Manifest.toml`\n",
      " \u001b[90m [429524aa]\u001b[39m\u001b[93m ↑ Optim v0.19.6 ⇒ v0.19.7\u001b[39m\n"
     ]
    },
    {
     "data": {
      "text/plain": [
       "MersenneTwister(UInt32[0x0000000d], Random.DSFMT.DSFMT_state(Int32[1942364238, 1073583280, 1215809738, 1073453074, -1714420386, 1073447762, -356802344, 1073021814, -1864483401, 1072881260  …  -56294547, 1072963348, 654307797, 1073646794, 598513278, -416580782, 1018899645, 745312242, 382, 0]), [0.0, 0.0, 0.0, 0.0, 0.0, 0.0, 0.0, 0.0, 0.0, 0.0  …  0.0, 0.0, 0.0, 0.0, 0.0, 0.0, 0.0, 0.0, 0.0, 0.0], UInt128[0x00000000000000000000000000000000, 0x00000000000000000000000000000000, 0x00000000000000000000000000000000, 0x00000000000000000000000000000000, 0x00000000000000000000000000000000, 0x00000000000000000000000000000000, 0x00000000000000000000000000000000, 0x00000000000000000000000000000000, 0x00000000000000000000000000000000, 0x00000000000000000000000000000000  …  0x00000000000000000000000000000000, 0x00000000000000000000000000000000, 0x00000000000000000000000000000000, 0x00000000000000000000000000000000, 0x00000000000000000000000000000000, 0x00000000000000000000000000000000, 0x00000000000000000000000000000000, 0x00000000000000000000000000000000, 0x00000000000000000000000000000000, 0x00000000000000000000000000000000], 1002, 0)"
      ]
     },
     "execution_count": 2,
     "metadata": {},
     "output_type": "execute_result"
    }
   ],
   "source": [
    "using Pkg\n",
    "Pkg.add(\"Random\")\n",
    "using Random\n",
    "Random.seed!(13)"
   ]
  },
  {
   "cell_type": "code",
   "execution_count": 3,
   "metadata": {},
   "outputs": [
    {
     "name": "stdout",
     "output_type": "stream",
     "text": [
      "\u001b[32m\u001b[1m Resolving\u001b[22m\u001b[39m package versions...\n",
      "\u001b[32m\u001b[1m  Updating\u001b[22m\u001b[39m `~/.julia/environments/v1.2/Project.toml`\n",
      "\u001b[90m [no changes]\u001b[39m\n",
      "\u001b[32m\u001b[1m  Updating\u001b[22m\u001b[39m `~/.julia/environments/v1.2/Manifest.toml`\n",
      "\u001b[90m [no changes]\u001b[39m\n"
     ]
    }
   ],
   "source": [
    "Pkg.add(\"Dates\")\n",
    "using Dates"
   ]
  },
  {
   "cell_type": "code",
   "execution_count": 4,
   "metadata": {},
   "outputs": [
    {
     "name": "stdout",
     "output_type": "stream",
     "text": [
      "\u001b[32m\u001b[1m Resolving\u001b[22m\u001b[39m package versions...\n",
      "\u001b[32m\u001b[1m  Updating\u001b[22m\u001b[39m `~/.julia/environments/v1.2/Project.toml`\n",
      "\u001b[90m [no changes]\u001b[39m\n",
      "\u001b[32m\u001b[1m  Updating\u001b[22m\u001b[39m `~/.julia/environments/v1.2/Manifest.toml`\n",
      "\u001b[90m [no changes]\u001b[39m\n"
     ]
    },
    {
     "name": "stderr",
     "output_type": "stream",
     "text": [
      "┌ Info: Recompiling stale cache file /Users/simonng/.julia/compiled/v1.2/LowRankModels/1HEpm.ji for LowRankModels [15d4e49f-4837-5ea3-a885-5b28bfa376dc]\n",
      "└ @ Base loading.jl:1240\n"
     ]
    },
    {
     "name": "stdout",
     "output_type": "stream",
     "text": [
      "\u001b[32m\u001b[1m Resolving\u001b[22m\u001b[39m package versions...\n",
      "\u001b[32m\u001b[1m  Updating\u001b[22m\u001b[39m `~/.julia/environments/v1.2/Project.toml`\n",
      "\u001b[90m [no changes]\u001b[39m\n",
      "\u001b[32m\u001b[1m  Updating\u001b[22m\u001b[39m `~/.julia/environments/v1.2/Manifest.toml`\n",
      "\u001b[90m [no changes]\u001b[39m\n",
      "\u001b[32m\u001b[1m Resolving\u001b[22m\u001b[39m package versions...\n",
      "\u001b[32m\u001b[1m  Updating\u001b[22m\u001b[39m `~/.julia/environments/v1.2/Project.toml`\n",
      "\u001b[90m [no changes]\u001b[39m\n",
      "\u001b[32m\u001b[1m  Updating\u001b[22m\u001b[39m `~/.julia/environments/v1.2/Manifest.toml`\n",
      "\u001b[90m [no changes]\u001b[39m\n",
      "\u001b[32m\u001b[1m Resolving\u001b[22m\u001b[39m package versions...\n",
      "\u001b[32m\u001b[1m  Updating\u001b[22m\u001b[39m `~/.julia/environments/v1.2/Project.toml`\n",
      "\u001b[90m [no changes]\u001b[39m\n",
      "\u001b[32m\u001b[1m  Updating\u001b[22m\u001b[39m `~/.julia/environments/v1.2/Manifest.toml`\n",
      "\u001b[90m [no changes]\u001b[39m\n",
      "\u001b[32m\u001b[1m Resolving\u001b[22m\u001b[39m package versions...\n",
      "\u001b[32m\u001b[1m  Updating\u001b[22m\u001b[39m `~/.julia/environments/v1.2/Project.toml`\n",
      "\u001b[90m [no changes]\u001b[39m\n",
      "\u001b[32m\u001b[1m  Updating\u001b[22m\u001b[39m `~/.julia/environments/v1.2/Manifest.toml`\n",
      "\u001b[90m [no changes]\u001b[39m\n",
      "\u001b[32m\u001b[1m Resolving\u001b[22m\u001b[39m package versions...\n",
      "\u001b[32m\u001b[1m  Updating\u001b[22m\u001b[39m `~/.julia/environments/v1.2/Project.toml`\n",
      "\u001b[90m [no changes]\u001b[39m\n",
      "\u001b[32m\u001b[1m  Updating\u001b[22m\u001b[39m `~/.julia/environments/v1.2/Manifest.toml`\n",
      "\u001b[90m [no changes]\u001b[39m\n",
      "\u001b[32m\u001b[1m Resolving\u001b[22m\u001b[39m package versions...\n",
      "\u001b[32m\u001b[1m  Updating\u001b[22m\u001b[39m `~/.julia/environments/v1.2/Project.toml`\n",
      "\u001b[90m [no changes]\u001b[39m\n",
      "\u001b[32m\u001b[1m  Updating\u001b[22m\u001b[39m `~/.julia/environments/v1.2/Manifest.toml`\n",
      "\u001b[90m [no changes]\u001b[39m\n"
     ]
    }
   ],
   "source": [
    "using Pkg\n",
    "Pkg.add(\"LowRankModels\")\n",
    "using LinearAlgebra, SparseArrays, LowRankModels\n",
    "include(\"proxgrad.jl\")\n",
    "\n",
    "import Pkg; Pkg.add(\"CSV\")\n",
    "import Pkg; Pkg.add(\"Plots\")\n",
    "import Pkg; Pkg.add(\"DataFrames\")\n",
    "import Pkg; Pkg.add(\"Statistics\")\n",
    "import Pkg; Pkg.add(\"LinearAlgebra\")\n",
    "using CSV\n",
    "using Plots\n",
    "using DataFrames\n",
    "using Statistics\n",
    "using LinearAlgebra"
   ]
  },
  {
   "cell_type": "code",
   "execution_count": 46,
   "metadata": {},
   "outputs": [
    {
     "name": "stderr",
     "output_type": "stream",
     "text": [
      "┌ Info: Recompiling stale cache file /Users/simonng/.julia/compiled/v1.2/StatsPlots/SiylL.ji for StatsPlots [f3b207a7-027a-5e70-b257-86293d7955fd]\n",
      "└ @ Base loading.jl:1240\n"
     ]
    }
   ],
   "source": [
    "using StatsPlots"
   ]
  },
  {
   "cell_type": "code",
   "execution_count": 5,
   "metadata": {
    "collapsed": true
   },
   "outputs": [],
   "source": [
    "df = CSV.read(\"BikeWeatherZillow.csv\");"
   ]
  },
  {
   "cell_type": "markdown",
   "metadata": {},
   "source": [
    "### Addition of Day of the Week"
   ]
  },
  {
   "cell_type": "code",
   "execution_count": 6,
   "metadata": {
    "collapsed": true
   },
   "outputs": [],
   "source": [
    "df[!, :week_day]=dayname.(DateTime.(2018, df[:, :start_month], df[:, :start_day]));"
   ]
  },
  {
   "cell_type": "markdown",
   "metadata": {},
   "source": [
    "### Deletion of Redundant Features"
   ]
  },
  {
   "cell_type": "code",
   "execution_count": 7,
   "metadata": {},
   "outputs": [
    {
     "name": "stderr",
     "output_type": "stream",
     "text": [
      "┌ Warning: `delete!(df::AbstractDataFrame, cols::Any)` is deprecated, use `select!(df, Not(cols))` instead.\n",
      "│   caller = top-level scope at In[7]:1\n",
      "└ @ Core In[7]:1\n",
      "┌ Warning: `delete!(df::AbstractDataFrame, cols::Any)` is deprecated, use `select!(df, Not(cols))` instead.\n",
      "│   caller = top-level scope at In[7]:2\n",
      "└ @ Core In[7]:2\n",
      "┌ Warning: `delete!(df::AbstractDataFrame, cols::Any)` is deprecated, use `select!(df, Not(cols))` instead.\n",
      "│   caller = top-level scope at In[7]:3\n",
      "└ @ Core In[7]:3\n",
      "┌ Warning: `delete!(df::AbstractDataFrame, cols::Any)` is deprecated, use `select!(df, Not(cols))` instead.\n",
      "│   caller = top-level scope at In[7]:4\n",
      "└ @ Core In[7]:4\n",
      "┌ Warning: `delete!(df::AbstractDataFrame, cols::Any)` is deprecated, use `select!(df, Not(cols))` instead.\n",
      "│   caller = top-level scope at In[7]:5\n",
      "└ @ Core In[7]:5\n"
     ]
    }
   ],
   "source": [
    "delete!(df, :start_day)\n",
    "delete!(df, :start_min)\n",
    "delete!(df, :start_station_latitude)\n",
    "delete!(df, :start_station_longitude)\n",
    "delete!(df, :start_station_zipcode);"
   ]
  },
  {
   "cell_type": "markdown",
   "metadata": {},
   "source": [
    "We decided to now use longitude, latitude, or zipcode because it confounds with start_station_id, which is more granular than the other 2 geographic choices. "
   ]
  },
  {
   "cell_type": "markdown",
   "metadata": {},
   "source": [
    "### Casting of Types"
   ]
  },
  {
   "cell_type": "code",
   "execution_count": 8,
   "metadata": {
    "collapsed": true
   },
   "outputs": [],
   "source": [
    "df[!, :start_month]=string.(df[!, :start_month])\n",
    "df[!, :start_station_id]=string.(df[!, :start_station_id])\n",
    "df[!, :gender]=string.(df[!, :gender]);"
   ]
  },
  {
   "cell_type": "code",
   "execution_count": 9,
   "metadata": {},
   "outputs": [
    {
     "name": "stdout",
     "output_type": "stream",
     "text": [
      "1\ttrip_duration\t\t\tInt64\n",
      "2\tstart_month\t\t\tString\n",
      "3\tstart_hour\t\t\tInt64\n",
      "4\tstart_station_id\t\t\tString\n",
      "5\tuser_type\t\t\tString\n",
      "6\tbirth_year\t\t\tInt64\n",
      "7\tgender\t\t\tString\n",
      "8\ttotal_precipitation_inches\t\t\tFloat64\n",
      "9\taverage_temperature_farenheit\t\t\tFloat64\n",
      "10\ttotal_snowfall_inches\t\t\tFloat64\n",
      "11\tmedian_rental_price\t\t\tString\n",
      "12\tmedian_sale_price\t\t\tString\n",
      "13\tweek_day\t\t\tString\n"
     ]
    }
   ],
   "source": [
    "feature_names = names(df)\n",
    "for i in 1:length(feature_names)\n",
    "    println(string(i), \"\\t\", string(feature_names[i]), \"\\t\\t\\t\", string(eltype(df[!, i])))\n",
    "end"
   ]
  },
  {
   "cell_type": "markdown",
   "metadata": {},
   "source": [
    "# Train/Test Split"
   ]
  },
  {
   "cell_type": "code",
   "execution_count": 10,
   "metadata": {},
   "outputs": [
    {
     "name": "stdout",
     "output_type": "stream",
     "text": [
      "Size of dataset: 597780\n"
     ]
    }
   ],
   "source": [
    "df = df[shuffle(1:end), :] # we shuffle the data so that our train/test split will be truly random\n",
    "\n",
    "train_proportion = 0.8\n",
    "n = size(df, 1)\n",
    "println(\"Size of dataset: \", string(n))\n",
    "\n",
    "# Put the first ntrain observations in the DataFrame df into the training set, and the rest into the test set\n",
    "ntrain = convert(Int, round(train_proportion*n))\n",
    "\n",
    "\n",
    "target = df[:, :trip_duration]\n",
    "data = df[:, filter(col -> (col != :trip_duration), feature_names)]\n",
    "\n",
    "# the following variable records the features of examples in the training set\n",
    "train_x = data[1:ntrain, :]\n",
    "# the following variable records the features of examples in the test set\n",
    "test_x = data[ntrain+1:end, :]\n",
    "# the following variable records the labels of examples in the training set\n",
    "train_y = target[1:ntrain, :]\n",
    "# the following variable records the labels of examples in the test set\n",
    "test_y = target[ntrain+1:end, :];"
   ]
  },
  {
   "cell_type": "markdown",
   "metadata": {},
   "source": [
    "# Adding Real Values to the Linear Model"
   ]
  },
  {
   "cell_type": "code",
   "execution_count": 11,
   "metadata": {
    "collapsed": true
   },
   "outputs": [],
   "source": [
    "real_labs = [\n",
    "    :start_hour,\n",
    "    :birth_year,\n",
    "    :total_precipitation_inches,\n",
    "    :average_temperature_farenheit,\n",
    "    :total_snowfall_inches\n",
    "]\n",
    "train_vals_real = train_x[:, filter(x -> (x in real_labs), names(df))]\n",
    "test_vals_real = test_x[:, filter(x -> (x in real_labs), names(df))];"
   ]
  },
  {
   "cell_type": "markdown",
   "metadata": {},
   "source": [
    "## Linear Model with Only Real Values and No Transformations"
   ]
  },
  {
   "cell_type": "code",
   "execution_count": 12,
   "metadata": {
    "collapsed": true
   },
   "outputs": [],
   "source": [
    "\"\"\"This function just computes the mean squared error.\"\"\"\n",
    "function MSE(y, pred)\n",
    "    sum = mean((y.-pred).^2)\n",
    "    return sum\n",
    "end;"
   ]
  },
  {
   "cell_type": "code",
   "execution_count": 13,
   "metadata": {},
   "outputs": [
    {
     "name": "stdout",
     "output_type": "stream",
     "text": [
      "MSE of training data: 2.355822827000853e8\n",
      "MSE of test data: 2.0078331270520863e8\n"
     ]
    }
   ],
   "source": [
    "Xtrain = convert(Matrix, hcat(train_vals_real, ones(length(train_vals_real[:, 1]))))\n",
    "Xtest = convert(Matrix, hcat(test_vals_real, ones(length(test_vals_real[:, 1]))))\n",
    "\n",
    "w = Xtrain \\ train_y\n",
    "#Xtrain \\ convert(Matrix, train_y)\n",
    "\n",
    "train_pred = Xtrain*w\n",
    "test_pred = Xtest*w\n",
    "\n",
    "train_MSE = MSE(train_y, train_pred)\n",
    "test_MSE = MSE(test_y, test_pred)\n",
    "\n",
    "println(\"MSE of training data: \", train_MSE)\n",
    "println(\"MSE of test data: \", test_MSE)"
   ]
  },
  {
   "cell_type": "markdown",
   "metadata": {},
   "source": [
    "## One Hot Encoding"
   ]
  },
  {
   "cell_type": "markdown",
   "metadata": {},
   "source": [
    "We used the onehot encoding function from homework 3"
   ]
  },
  {
   "cell_type": "code",
   "execution_count": 14,
   "metadata": {
    "collapsed": true
   },
   "outputs": [],
   "source": [
    "\"Computes a onehot vector for every entry in column given a set of categories cats\"\n",
    "function onehot(column, cats=unique(column))\n",
    "    result = zeros(size(column, 1),size(cats, 1))\n",
    "    for i in 1:size(column, 1)\n",
    "        for j in 1:(size(cats, 1))\n",
    "            if(column[i]==cats[j])\n",
    "                result[i,j]=1  \n",
    "            end\n",
    "        end\n",
    "    end\n",
    "    return result\n",
    "end;"
   ]
  },
  {
   "cell_type": "code",
   "execution_count": 15,
   "metadata": {},
   "outputs": [
    {
     "name": "stdout",
     "output_type": "stream",
     "text": [
      "Train MSE\t2.333228862423659e8\n",
      "Test MSE \t2.016515306066246e8\n"
     ]
    }
   ],
   "source": [
    "#these are the nominal categories from the CitiBike dataset.\n",
    "#this doesn't include housing data because of the large amount of NAs in the data set. \n",
    "cat_labels = [\n",
    "    :start_month,\n",
    "    :start_station_id,\n",
    "    :user_type,\n",
    "    :gender,\n",
    "    :week_day\n",
    "]\n",
    "\n",
    "cats_sets = [unique(train_x[:, label]) for label in cat_labels]\n",
    "\n",
    "train_cat_vals = hcat([onehot(train_x[:, cat_labels[i]], cats_sets[i]) for i in 1:size(cat_labels, 1)]...)\n",
    "test_cat_vals = hcat([onehot(test_x[:, cat_labels[i]], cats_sets[i]) for i in 1:size(cat_labels, 1)]...);\n",
    "\n",
    "trainX = hcat(convert(Matrix, train_cat_vals), Xtrain)\n",
    "testX = hcat(convert(Matrix, test_cat_vals), Xtest)\n",
    "\n",
    "w_cat = trainX \\ train_y\n",
    "\n",
    "train_pred_cat = trainX*w_cat\n",
    "test_pred_cat = testX*w_cat\n",
    "\n",
    "cat_train_MSE = MSE(train_y, train_pred_cat)\n",
    "cat_test_MSE = MSE(test_y, test_pred_cat)\n",
    "\n",
    "println(\"Train MSE\\t\", cat_train_MSE)\n",
    "println(\"Test MSE \\t\", cat_test_MSE)"
   ]
  },
  {
   "cell_type": "code",
   "execution_count": 45,
   "metadata": {},
   "outputs": [
    {
     "ename": "LoadError",
     "evalue": "UndefVarError: @df not defined",
     "output_type": "error",
     "traceback": [
      "UndefVarError: @df not defined",
      ""
     ]
    }
   ],
   "source": [
    "@df df plot(:start_hour, :trip_duration)"
   ]
  },
  {
   "cell_type": "code",
   "execution_count": 16,
   "metadata": {},
   "outputs": [
    {
     "data": {
      "text/plain": [
       "toBool (generic function with 1 method)"
      ]
     },
     "execution_count": 16,
     "metadata": {},
     "output_type": "execute_result"
    }
   ],
   "source": [
    "function toBool(y, cutoff)\n",
    "    for i in 1:length(y)\n",
    "        if y[i]<= cutoff\n",
    "            y[i]=-1\n",
    "        else\n",
    "            y[i]=1\n",
    "        end\n",
    "    end\n",
    "    return y\n",
    "end"
   ]
  },
  {
   "cell_type": "markdown",
   "metadata": {},
   "source": [
    "## Logistic Loss, Quadratic"
   ]
  },
  {
   "cell_type": "code",
   "execution_count": 17,
   "metadata": {},
   "outputs": [
    {
     "data": {
      "text/plain": [
       "logReg (generic function with 1 method)"
      ]
     },
     "execution_count": 17,
     "metadata": {},
     "output_type": "execute_result"
    }
   ],
   "source": [
    "#y MUST be a one dimensional vector\n",
    "function logReg(x, y)\n",
    "    yNew = toBool(y, 3600)\n",
    "    n = length(yNew)\n",
    "    loss = 1/n * LogisticLoss()\n",
    "    lambda = 0.5\n",
    "    reg = lambda * QuadReg()\n",
    "    w = proxgrad(loss, reg, x, yNew, maxiters=1000)\n",
    "    return w\n",
    "end"
   ]
  },
  {
   "cell_type": "markdown",
   "metadata": {},
   "source": [
    "## Logistic Loss with no regularization"
   ]
  },
  {
   "cell_type": "code",
   "execution_count": 18,
   "metadata": {},
   "outputs": [
    {
     "data": {
      "text/plain": [
       "logReg_noreg (generic function with 1 method)"
      ]
     },
     "execution_count": 18,
     "metadata": {},
     "output_type": "execute_result"
    }
   ],
   "source": [
    "#Logistic Loss with no regularization\n",
    "function logReg_noreg(x, y)\n",
    "    yNew = toBool(y, 3600)\n",
    "    n = length(yNew)\n",
    "    loss = 1/n * LogisticLoss()\n",
    "    reg = ZeroReg()\n",
    "    w = proxgrad(loss, reg, x, yNew, maxiters=1000)\n",
    "    return w\n",
    "end"
   ]
  },
  {
   "cell_type": "markdown",
   "metadata": {},
   "source": [
    "## Logistics Loss with L1 regularization"
   ]
  },
  {
   "cell_type": "code",
   "execution_count": 19,
   "metadata": {},
   "outputs": [
    {
     "data": {
      "text/plain": [
       "log_l1 (generic function with 1 method)"
      ]
     },
     "execution_count": 19,
     "metadata": {},
     "output_type": "execute_result"
    }
   ],
   "source": [
    "function log_l1(x, y)\n",
    "    yNew = toBool(y, 3600)\n",
    "    n = length(yNew)\n",
    "    loss = 1/n * LogisticLoss()\n",
    "    reg =  OneReg()\n",
    "    w = proxgrad(loss, reg, x, yNew, maxiters=10)\n",
    "    return w\n",
    "end"
   ]
  },
  {
   "cell_type": "markdown",
   "metadata": {},
   "source": [
    "## WeightedHingeLoss with Quadratic"
   ]
  },
  {
   "cell_type": "code",
   "execution_count": 20,
   "metadata": {},
   "outputs": [
    {
     "data": {
      "text/plain": [
       "weighthingeLoss (generic function with 1 method)"
      ]
     },
     "execution_count": 20,
     "metadata": {},
     "output_type": "execute_result"
    }
   ],
   "source": [
    "#y MUST be a one dimensional vector\n",
    "function weighthingeLoss(x, y)\n",
    "    yNew = toBool(y, 3600)\n",
    "    n = length(yNew)\n",
    "    loss = 1/n * WeightedHingeLoss()\n",
    "    lambda = 0.5\n",
    "    reg = lambda * QuadReg()\n",
    "    w = proxgrad(loss, reg, x, yNew, maxiters=1000)\n",
    "    return w\n",
    "end"
   ]
  },
  {
   "cell_type": "markdown",
   "metadata": {},
   "source": [
    "## WeightedHingeLoss with no reg"
   ]
  },
  {
   "cell_type": "code",
   "execution_count": 21,
   "metadata": {},
   "outputs": [
    {
     "data": {
      "text/plain": [
       "weighthinge_zero (generic function with 1 method)"
      ]
     },
     "execution_count": 21,
     "metadata": {},
     "output_type": "execute_result"
    }
   ],
   "source": [
    "# hinge loss with l1 regularization\n",
    "function weighthinge_zero(x, y)\n",
    "    yNew = toBool(y, 3600)\n",
    "    n = length(yNew)\n",
    "    loss = 1/n * WeightedHingeLoss()\n",
    "    reg =  ZeroReg()\n",
    "    w = proxgrad(loss, reg, x, yNew, maxiters=100)\n",
    "    return w\n",
    "end"
   ]
  },
  {
   "cell_type": "markdown",
   "metadata": {},
   "source": [
    "## Weighted Hinge Loss with lasso"
   ]
  },
  {
   "cell_type": "code",
   "execution_count": 22,
   "metadata": {},
   "outputs": [
    {
     "data": {
      "text/plain": [
       "weighthingeLoss_lasso (generic function with 1 method)"
      ]
     },
     "execution_count": 22,
     "metadata": {},
     "output_type": "execute_result"
    }
   ],
   "source": [
    "function weighthingeLoss_lasso(x, y)\n",
    "    yNew = toBool(y, 3600)\n",
    "    n = length(yNew)\n",
    "    loss = 1/n * WeightedHingeLoss()\n",
    "    reg =  OneReg()\n",
    "    w = proxgrad(loss, reg, x, yNew, maxiters=10)\n",
    "    return w\n",
    "end"
   ]
  },
  {
   "cell_type": "markdown",
   "metadata": {},
   "source": [
    "## Hinge Loss with quadratic"
   ]
  },
  {
   "cell_type": "code",
   "execution_count": 23,
   "metadata": {},
   "outputs": [
    {
     "data": {
      "text/plain": [
       "hingeLoss (generic function with 1 method)"
      ]
     },
     "execution_count": 23,
     "metadata": {},
     "output_type": "execute_result"
    }
   ],
   "source": [
    "function hingeLoss(x, y)\n",
    "    yNew = toBool(y, 3600)\n",
    "    n = length(yNew)\n",
    "    loss = 1/n * HingeLoss()\n",
    "    lambda = 0.5\n",
    "    reg = lambda * QuadReg()\n",
    "    w = proxgrad(loss, reg, x, yNew, maxiters=1000)\n",
    "    return w\n",
    "end"
   ]
  },
  {
   "cell_type": "markdown",
   "metadata": {},
   "source": [
    "## Hinge Loss with no regulariation"
   ]
  },
  {
   "cell_type": "code",
   "execution_count": 24,
   "metadata": {},
   "outputs": [
    {
     "data": {
      "text/plain": [
       "hingeLoss_noreg (generic function with 1 method)"
      ]
     },
     "execution_count": 24,
     "metadata": {},
     "output_type": "execute_result"
    }
   ],
   "source": [
    "# hinge loss and no regularization\n",
    "function hingeLoss_noreg(x, y)\n",
    "    yNew = toBool(y, 3600)\n",
    "    n = length(yNew)\n",
    "    loss = 1/n * HingeLoss()\n",
    "    reg =  ZeroReg()\n",
    "    w = proxgrad(loss, reg, x, yNew, maxiters=1000)\n",
    "    return w\n",
    "end"
   ]
  },
  {
   "cell_type": "markdown",
   "metadata": {},
   "source": [
    "## Hinge Loss with Lasso"
   ]
  },
  {
   "cell_type": "code",
   "execution_count": 25,
   "metadata": {},
   "outputs": [
    {
     "data": {
      "text/plain": [
       "hingeLoss_noreg_lasso (generic function with 1 method)"
      ]
     },
     "execution_count": 25,
     "metadata": {},
     "output_type": "execute_result"
    }
   ],
   "source": [
    "# hinge loss and no regularization\n",
    "function hingeLoss_noreg_lasso(x, y)\n",
    "    yNew = toBool(y, 3600)\n",
    "    n = length(yNew)\n",
    "    loss = 1/n * HingeLoss()\n",
    "    reg =  OneReg()\n",
    "    w = proxgrad(loss, reg, x, yNew, maxiters=10)\n",
    "    return w\n",
    "end"
   ]
  },
  {
   "cell_type": "markdown",
   "metadata": {},
   "source": [
    "## L1 Loss"
   ]
  },
  {
   "cell_type": "code",
   "execution_count": 26,
   "metadata": {
    "collapsed": true
   },
   "outputs": [],
   "source": [
    "# l1loss\n",
    "# function l1_quad(x, y)\n",
    "#     yNew = toBool(y, 7200)\n",
    "#     n = length(yNew)\n",
    "#     loss = 1/n * L1Loss()\n",
    "#     reg =  QuadReg()\n",
    "#     w = proxgrad(loss, reg, x, yNew, maxiters=1000)\n",
    "#     return w\n",
    "# end"
   ]
  },
  {
   "cell_type": "markdown",
   "metadata": {},
   "source": [
    "## L1 Loss with no regularization"
   ]
  },
  {
   "cell_type": "code",
   "execution_count": 27,
   "metadata": {
    "collapsed": true
   },
   "outputs": [],
   "source": [
    "# L1 loss and no regularization\n",
    "# function l1_noreg(x, y)\n",
    "#     yNew = toBool(y, 7200)\n",
    "#     n = length(yNew)\n",
    "#     loss = 1/n * L1Loss()\n",
    "#     reg =  ZeroReg()\n",
    "#     w = proxgrad(loss, reg, x, yNew, maxiters=1000)\n",
    "#     return w\n",
    "# end"
   ]
  },
  {
   "cell_type": "markdown",
   "metadata": {},
   "source": [
    "## L1 Loss with L1 regularization"
   ]
  },
  {
   "cell_type": "code",
   "execution_count": 28,
   "metadata": {
    "collapsed": true
   },
   "outputs": [],
   "source": [
    "# logistic loss with l1 regularization\n",
    "# function l1_l1(x, y)\n",
    "#     yNew = toBool(y, 7200)\n",
    "#     n = length(yNew)\n",
    "#     loss = 1/n * L1Loss()\n",
    "#     reg =  OneReg()\n",
    "#     w = proxgrad(loss, reg, x, yNew, maxiters=100)\n",
    "#     return w\n",
    "# end"
   ]
  },
  {
   "cell_type": "markdown",
   "metadata": {},
   "source": [
    "## Quantile Regression"
   ]
  },
  {
   "cell_type": "code",
   "execution_count": 29,
   "metadata": {
    "collapsed": true
   },
   "outputs": [],
   "source": [
    "# function quantReg(alpha, y, x)\n",
    "#     n=length(y)\n",
    "    \n",
    "#     loss = 1/n * QuantileLoss(quantile = alpha)\n",
    "\n",
    "#     lambda = 0\n",
    "#     reg = lambda * QuadReg()\n",
    "#     w = proxgrad(loss,reg, convert(Array{Float64,2}, x), y, maxiters=1000)\n",
    "#     return w\n",
    "# end"
   ]
  },
  {
   "cell_type": "markdown",
   "metadata": {},
   "source": [
    "## Least Squares"
   ]
  },
  {
   "cell_type": "code",
   "execution_count": 30,
   "metadata": {
    "collapsed": true
   },
   "outputs": [],
   "source": [
    "# fit least squares now that we categorized the y values into being long or short \n",
    "# function least(x, y)\n",
    "#     yNew = toBool(y, 7200)\n",
    "#     n = length(yNew)\n",
    "#     loss = 1/n * QuadLoss()\n",
    "#     reg = ZeroReg()\n",
    "#     w = proxgrad(loss, reg, x, yNew, maxiters=1000)\n",
    "#     return w\n",
    "# end"
   ]
  },
  {
   "cell_type": "markdown",
   "metadata": {},
   "source": [
    "## Function Calls"
   ]
  },
  {
   "cell_type": "code",
   "execution_count": 59,
   "metadata": {},
   "outputs": [
    {
     "data": {
      "text/plain": [
       "840-element Array{Float64,1}:\n",
       " -1.44821525632343e-5  \n",
       " -9.765291102802224e-6 \n",
       " -2.5300766834747124e-6\n",
       " -9.858259305216664e-6 \n",
       "  3.0697087895839945e-6\n",
       " -9.853911362049018e-6 \n",
       "  1.4250242093473399e-5\n",
       "  8.767476840950268e-6 \n",
       "  1.3013035581227239e-5\n",
       "  2.4030571866394157e-6\n",
       " -1.8206799233982068e-6\n",
       "  5.66630550553124e-6  \n",
       " -7.310784077368963e-7 \n",
       "  ⋮                    \n",
       " -1.4457311890304924e-5\n",
       "  2.066155234780892e-5 \n",
       " -1.1971180156954124e-5\n",
       "  3.059974902856385e-5 \n",
       " -6.641431171519243e-6 \n",
       " -6.177879001956588e-6 \n",
       " -5.180211562498428e-5 \n",
       " -0.003018843419626677 \n",
       " -1.27714954989696e-6  \n",
       "  0.0014421692805488904\n",
       " -2.471102031974935e-6 \n",
       " -1.140544942768553e-6 "
      ]
     },
     "execution_count": 59,
     "metadata": {},
     "output_type": "execute_result"
    }
   ],
   "source": [
    "w_logReg = logReg(trainX,train_y[:, 1])"
   ]
  },
  {
   "cell_type": "code",
   "execution_count": 61,
   "metadata": {},
   "outputs": [
    {
     "data": {
      "text/plain": [
       "840-element Array{Float64,1}:\n",
       " -1.4680749538663505e-5\n",
       " -1.096557783961492e-5 \n",
       " -1.4427201008835414e-6\n",
       " -7.653166756427442e-6 \n",
       "  6.993422112811768e-6 \n",
       " -3.2721638301163638e-6\n",
       "  7.943073648249212e-6 \n",
       "  8.931731317861632e-6 \n",
       "  8.668435762547613e-6 \n",
       "  7.753358088872167e-6 \n",
       " -7.631955685304123e-6 \n",
       "  4.444373695595977e-6 \n",
       " -6.820880558109566e-7 \n",
       "  ⋮                    \n",
       " -1.3731166484877738e-5\n",
       "  2.4819673208104948e-5\n",
       " -1.0843841871484366e-5\n",
       "  2.684293726649334e-5 \n",
       " -7.884670921060317e-6 \n",
       " -5.467863667998482e-6 \n",
       " -1.5188195492633868e-7\n",
       " -0.0024411127656772643\n",
       " -3.0439578134881897e-6\n",
       "  0.001533588787387848 \n",
       " -2.782060378373802e-6 \n",
       " -9.119391250714032e-7 "
      ]
     },
     "execution_count": 61,
     "metadata": {},
     "output_type": "execute_result"
    }
   ],
   "source": [
    "w_logReg_noreg = logReg_noreg(trainX,train_y[:, 1])"
   ]
  },
  {
   "cell_type": "code",
   "execution_count": 83,
   "metadata": {},
   "outputs": [
    {
     "data": {
      "text/plain": [
       "840-element Array{Float64,1}:\n",
       "  0.0                   \n",
       "  0.0                   \n",
       "  0.0                   \n",
       "  0.0                   \n",
       "  0.0                   \n",
       "  0.0                   \n",
       "  0.0                   \n",
       "  0.0                   \n",
       "  0.0                   \n",
       "  0.0                   \n",
       "  0.0                   \n",
       "  0.0                   \n",
       "  0.0                   \n",
       "  ⋮                     \n",
       "  0.0                   \n",
       "  0.0                   \n",
       "  0.0                   \n",
       "  0.0                   \n",
       "  0.0                   \n",
       "  0.0                   \n",
       "  0.0                   \n",
       " -0.024678453125533063  \n",
       "  0.0                   \n",
       " -0.00039163613599382623\n",
       "  0.0                   \n",
       "  0.0                   "
      ]
     },
     "execution_count": 83,
     "metadata": {},
     "output_type": "execute_result"
    }
   ],
   "source": [
    "w_log_l1 = log_l1(trainX,train_y[:, 1])"
   ]
  },
  {
   "cell_type": "code",
   "execution_count": 26,
   "metadata": {},
   "outputs": [
    {
     "data": {
      "text/plain": [
       "840-element Array{Float64,1}:\n",
       " -0.00035760276225969254\n",
       " -0.00048302150557156544\n",
       "  0.000272555691862118  \n",
       "  0.00022435569532003628\n",
       " -0.00024947673810437547\n",
       "  0.00030879179465916827\n",
       " -4.304570191964412e-5  \n",
       "  0.00015318538187176546\n",
       "  0.00029098008392009904\n",
       " -0.00010162475287627178\n",
       " -0.0002729737825630466 \n",
       "  0.0002680907332686313 \n",
       "  7.071127065054656e-6  \n",
       "  ⋮                     \n",
       " -0.0004863989020651396 \n",
       " -0.0002497926757937229 \n",
       " -0.0004495905955721152 \n",
       " -0.00033823715452068446\n",
       " -0.00015914859632598446\n",
       "  0.0008994609944653969 \n",
       "  0.0004774320284963516 \n",
       " -0.002834156200320275  \n",
       " -9.493914920332666e-5  \n",
       "  0.05353775313087843   \n",
       " -9.142032466465593e-5  \n",
       "  1.0214137607289994e-5 "
      ]
     },
     "execution_count": 26,
     "metadata": {},
     "output_type": "execute_result"
    }
   ],
   "source": [
    "w_hingeLoss = hingeLoss(trainX,train_y[:, 1])"
   ]
  },
  {
   "cell_type": "code",
   "execution_count": 27,
   "metadata": {},
   "outputs": [
    {
     "data": {
      "text/plain": [
       "840-element Array{Float64,1}:\n",
       " -0.041705543420813805 \n",
       " -0.056331624438805565 \n",
       "  0.03178268177870292  \n",
       "  0.02618303751713205  \n",
       " -0.029096034232911166 \n",
       "  0.036007271705112094 \n",
       " -0.00502231996995673  \n",
       "  0.017861876500015278 \n",
       "  0.033940137427752176 \n",
       " -0.01185372307387638  \n",
       " -0.031836222571695084 \n",
       "  0.03129212465190199  \n",
       "  0.0008255674168250395\n",
       "  ⋮                    \n",
       " -0.05668967019606398  \n",
       " -0.029099142249500057 \n",
       " -0.05242420025382928  \n",
       " -0.039444165253888906 \n",
       " -0.01856421473481734  \n",
       "  0.10488923866123624  \n",
       "  0.056089280827385624 \n",
       " -0.2722376167151356   \n",
       " -0.011073111319989353 \n",
       "  6.246952051549698    \n",
       " -0.010661903143192923 \n",
       "  0.0012216618725680423"
      ]
     },
     "execution_count": 27,
     "metadata": {},
     "output_type": "execute_result"
    }
   ],
   "source": [
    "w_hingeLoss_noreg = hingeLoss_noreg(trainX,train_y[:, 1])"
   ]
  },
  {
   "cell_type": "code",
   "execution_count": null,
   "metadata": {
    "collapsed": true
   },
   "outputs": [],
   "source": [
    "# w_hinge_l1 = hinge_l1(trainX,train_y[:, 1])"
   ]
  },
  {
   "cell_type": "code",
   "execution_count": null,
   "metadata": {
    "collapsed": true
   },
   "outputs": [],
   "source": [
    "# w_l1_quad = l1_quad(trainX,train_y[:, 1])"
   ]
  },
  {
   "cell_type": "code",
   "execution_count": null,
   "metadata": {
    "collapsed": true
   },
   "outputs": [],
   "source": [
    "# w_l1_noreg = l1_noreg(trainX,train_y[:, 1])"
   ]
  },
  {
   "cell_type": "code",
   "execution_count": null,
   "metadata": {
    "collapsed": true
   },
   "outputs": [],
   "source": [
    "# w_l1_l1 = l1_l1(trainX,train_y[:, 1])"
   ]
  },
  {
   "cell_type": "code",
   "execution_count": null,
   "metadata": {
    "collapsed": true
   },
   "outputs": [],
   "source": [
    "# w_quantReg = quantReg(.9, train_y[:, 1], trainX)"
   ]
  },
  {
   "cell_type": "code",
   "execution_count": null,
   "metadata": {
    "collapsed": true
   },
   "outputs": [],
   "source": [
    "# w_least = least(trainX,train_y[:, 1])"
   ]
  },
  {
   "cell_type": "code",
   "execution_count": 28,
   "metadata": {},
   "outputs": [
    {
     "data": {
      "text/plain": [
       "840-element Array{Float64,1}:\n",
       " -0.00035760276225969254\n",
       " -0.00048302150557156544\n",
       "  0.000272555691862118  \n",
       "  0.00022435569532003628\n",
       " -0.00024947673810437547\n",
       "  0.00030879179465916827\n",
       " -4.304570191964412e-5  \n",
       "  0.00015318538187176546\n",
       "  0.00029098008392009904\n",
       " -0.00010162475287627178\n",
       " -0.0002729737825630466 \n",
       "  0.0002680907332686313 \n",
       "  7.071127065054656e-6  \n",
       "  ⋮                     \n",
       " -0.0004863989020651396 \n",
       " -0.0002497926757937229 \n",
       " -0.0004495905955721152 \n",
       " -0.00033823715452068446\n",
       " -0.00015914859632598446\n",
       "  0.0008994609944653969 \n",
       "  0.0004774320284963516 \n",
       " -0.002834156200320275  \n",
       " -9.493914920332666e-5  \n",
       "  0.05353775313087843   \n",
       " -9.142032466465593e-5  \n",
       "  1.0214137607289994e-5 "
      ]
     },
     "execution_count": 28,
     "metadata": {},
     "output_type": "execute_result"
    }
   ],
   "source": [
    "w_weighthingeLoss = weighthingeLoss(trainX,train_y[:, 1])"
   ]
  },
  {
   "cell_type": "code",
   "execution_count": 29,
   "metadata": {},
   "outputs": [
    {
     "data": {
      "text/plain": [
       "840-element Array{Float64,1}:\n",
       "   -0.047323011810365335\n",
       "   -0.05959759443273398 \n",
       "    0.016301984007494177\n",
       "    0.013867978185954588\n",
       "   -0.036411807019304965\n",
       "    0.02000526949713918 \n",
       "   -0.015538743350396289\n",
       "    0.004242781625347068\n",
       "    0.01898900933453773 \n",
       "   -0.021423015156077668\n",
       "   -0.03876007895881427 \n",
       "    0.015994596674361542\n",
       "    0.000150557061126162\n",
       "    ⋮                   \n",
       "   -0.06891122151962228 \n",
       "   -0.044301415236374445\n",
       "   -0.06548604837900227 \n",
       "   -0.055082973669242974\n",
       "   -0.035579561042524285\n",
       "    0.07363494931245625 \n",
       "   -1.7608401084010405  \n",
       " -258.9048834855722     \n",
       "   -0.022224626953059656\n",
       "   -1.8763393305229294  \n",
       "   -0.011989193348723637\n",
       "   -0.12965263140285038 "
      ]
     },
     "execution_count": 29,
     "metadata": {},
     "output_type": "execute_result"
    }
   ],
   "source": [
    "w_weighthinge_zero = weighthinge_zero(trainX,train_y[:, 1])  "
   ]
  },
  {
   "cell_type": "code",
   "execution_count": 30,
   "metadata": {},
   "outputs": [
    {
     "data": {
      "text/plain": [
       "840-element Array{Float64,1}:\n",
       "     0.0               \n",
       "     0.0               \n",
       "     0.0               \n",
       "     0.0               \n",
       "     0.0               \n",
       "     0.0               \n",
       "     0.0               \n",
       "     0.0               \n",
       "     0.0               \n",
       "     0.0               \n",
       "     0.0               \n",
       "     0.0               \n",
       "     0.0               \n",
       "     ⋮                 \n",
       "     0.0               \n",
       "     0.0               \n",
       "     0.0               \n",
       "     0.0               \n",
       "     0.0               \n",
       "     0.0               \n",
       "    -2.5283047274917068\n",
       " -1781.5784004985178   \n",
       "     0.0               \n",
       "   -40.559680191709305 \n",
       "     0.0               \n",
       "     0.0               "
      ]
     },
     "execution_count": 30,
     "metadata": {},
     "output_type": "execute_result"
    }
   ],
   "source": [
    "w_hingeLoss_noreg_lasso = hingeLoss_noreg_lasso(trainX,train_y[:, 1])"
   ]
  },
  {
   "cell_type": "code",
   "execution_count": 31,
   "metadata": {},
   "outputs": [
    {
     "data": {
      "text/plain": [
       "840-element Array{Float64,1}:\n",
       "     0.0               \n",
       "     0.0               \n",
       "     0.0               \n",
       "     0.0               \n",
       "     0.0               \n",
       "     0.0               \n",
       "     0.0               \n",
       "     0.0               \n",
       "     0.0               \n",
       "     0.0               \n",
       "     0.0               \n",
       "     0.0               \n",
       "     0.0               \n",
       "     ⋮                 \n",
       "     0.0               \n",
       "     0.0               \n",
       "     0.0               \n",
       "     0.0               \n",
       "     0.0               \n",
       "     0.0               \n",
       "    -2.5283047274917068\n",
       " -1781.5784004985178   \n",
       "     0.0               \n",
       "   -40.559680191709305 \n",
       "     0.0               \n",
       "     0.0               "
      ]
     },
     "execution_count": 31,
     "metadata": {},
     "output_type": "execute_result"
    }
   ],
   "source": [
    "w_weighthingeLoss_lasso = weighthingeLoss_lasso(trainX,train_y[:, 1])"
   ]
  },
  {
   "cell_type": "markdown",
   "metadata": {},
   "source": [
    "## Misclassification Rate"
   ]
  },
  {
   "cell_type": "code",
   "execution_count": 35,
   "metadata": {},
   "outputs": [
    {
     "data": {
      "text/plain": [
       "misclassification (generic function with 1 method)"
      ]
     },
     "execution_count": 35,
     "metadata": {},
     "output_type": "execute_result"
    }
   ],
   "source": [
    "# calculates the misclassification rate of a model\n",
    "function misclassification(X, y, w, cutoff)\n",
    "    n = size(X,1)\n",
    "    origY = toBool(y, 3600)\n",
    "    newY = toBool(y, cutoff)\n",
    "    mis = 0\n",
    "    for i in 1:n\n",
    "        if(origY[i] != newY[i])\n",
    "            mis += 1/n\n",
    "        end\n",
    "    end\n",
    "    return round(mis, digits=4)\n",
    "end"
   ]
  },
  {
   "cell_type": "code",
   "execution_count": 36,
   "metadata": {},
   "outputs": [],
   "source": [
    "# test_y = vec(test_y)"
   ]
  },
  {
   "cell_type": "code",
   "execution_count": 42,
   "metadata": {},
   "outputs": [
    {
     "data": {
      "text/plain": [
       "misclassification (generic function with 1 method)"
      ]
     },
     "execution_count": 42,
     "metadata": {},
     "output_type": "execute_result"
    }
   ],
   "source": [
    "# calculates the misclassification rate of a model\n",
    "# function misclassification(X, y, w)\n",
    "#     return (length(y) - dot(Int.(sign.(X*w)), y))/length(y)\n",
    "# end"
   ]
  },
  {
   "cell_type": "code",
   "execution_count": 78,
   "metadata": {},
   "outputs": [
    {
     "data": {
      "text/plain": [
       "0.0"
      ]
     },
     "execution_count": 78,
     "metadata": {},
     "output_type": "execute_result"
    }
   ],
   "source": [
    "misclassification(testX,test_y,w_logReg, .5)"
   ]
  },
  {
   "cell_type": "code",
   "execution_count": 79,
   "metadata": {},
   "outputs": [
    {
     "data": {
      "text/plain": [
       "0.0"
      ]
     },
     "execution_count": 79,
     "metadata": {},
     "output_type": "execute_result"
    }
   ],
   "source": [
    "misclassification(testX,test_y,w_logReg_noreg, .5)"
   ]
  },
  {
   "cell_type": "code",
   "execution_count": 84,
   "metadata": {},
   "outputs": [
    {
     "data": {
      "text/plain": [
       "0.0"
      ]
     },
     "execution_count": 84,
     "metadata": {},
     "output_type": "execute_result"
    }
   ],
   "source": [
    "misclassification(testX,test_y,w_log_l1, .5)"
   ]
  },
  {
   "cell_type": "code",
   "execution_count": 37,
   "metadata": {},
   "outputs": [
    {
     "data": {
      "text/plain": [
       "0.0"
      ]
     },
     "execution_count": 37,
     "metadata": {},
     "output_type": "execute_result"
    }
   ],
   "source": [
    "misclassification(testX,test_y,w_hingeLoss, 0)"
   ]
  },
  {
   "cell_type": "code",
   "execution_count": 38,
   "metadata": {},
   "outputs": [
    {
     "data": {
      "text/plain": [
       "0.0"
      ]
     },
     "execution_count": 38,
     "metadata": {},
     "output_type": "execute_result"
    }
   ],
   "source": [
    "misclassification(testX,test_y,w_hingeLoss_noreg, 0)"
   ]
  },
  {
   "cell_type": "code",
   "execution_count": 54,
   "metadata": {
    "collapsed": true
   },
   "outputs": [],
   "source": [
    "# misclassification(testX,test_y,w_l1_quad, .5)"
   ]
  },
  {
   "cell_type": "code",
   "execution_count": 55,
   "metadata": {
    "collapsed": true
   },
   "outputs": [],
   "source": [
    "# misclassification(testX,test_y,w_l1_noreg, .5)"
   ]
  },
  {
   "cell_type": "code",
   "execution_count": 56,
   "metadata": {
    "collapsed": true
   },
   "outputs": [],
   "source": [
    "# misclassification(testX,test_y,w_l1_l1)"
   ]
  },
  {
   "cell_type": "code",
   "execution_count": 100,
   "metadata": {
    "collapsed": true
   },
   "outputs": [],
   "source": [
    "# misclassification(Xtest,test_y,w_quantReg)"
   ]
  },
  {
   "cell_type": "code",
   "execution_count": 101,
   "metadata": {
    "collapsed": true
   },
   "outputs": [],
   "source": [
    "# misclassification1(Xtest,test_y,w_quantReg)"
   ]
  },
  {
   "cell_type": "code",
   "execution_count": 102,
   "metadata": {
    "collapsed": true
   },
   "outputs": [],
   "source": [
    "# misclassification(Xtest,test_y,w_least)"
   ]
  },
  {
   "cell_type": "code",
   "execution_count": 39,
   "metadata": {},
   "outputs": [
    {
     "data": {
      "text/plain": [
       "0.0"
      ]
     },
     "execution_count": 39,
     "metadata": {},
     "output_type": "execute_result"
    }
   ],
   "source": [
    "misclassification(testX,test_y,w_weighthingeLoss)"
   ]
  },
  {
   "cell_type": "code",
   "execution_count": 40,
   "metadata": {},
   "outputs": [
    {
     "data": {
      "text/plain": [
       "0.0"
      ]
     },
     "execution_count": 40,
     "metadata": {},
     "output_type": "execute_result"
    }
   ],
   "source": [
    "misclassification(testX,test_y,w_weighthinge_zero)"
   ]
  },
  {
   "cell_type": "code",
   "execution_count": 41,
   "metadata": {},
   "outputs": [
    {
     "data": {
      "text/plain": [
       "0.0"
      ]
     },
     "execution_count": 41,
     "metadata": {},
     "output_type": "execute_result"
    }
   ],
   "source": [
    "misclassification(testX,test_y,w_weighthingeLoss_lasso)"
   ]
  },
  {
   "cell_type": "code",
   "execution_count": 42,
   "metadata": {},
   "outputs": [
    {
     "data": {
      "text/plain": [
       "0.0"
      ]
     },
     "execution_count": 42,
     "metadata": {},
     "output_type": "execute_result"
    }
   ],
   "source": [
    "misclassification(testX,test_y,w_hingeLoss_noreg_lasso)"
   ]
  },
  {
   "cell_type": "code",
   "execution_count": null,
   "metadata": {
    "collapsed": true
   },
   "outputs": [],
   "source": []
  },
  {
   "cell_type": "code",
   "execution_count": null,
   "metadata": {
    "collapsed": true
   },
   "outputs": [],
   "source": []
  }
 ],
 "metadata": {
  "kernelspec": {
   "display_name": "Julia 1.2.0",
   "language": "julia",
   "name": "julia-1.2"
  },
  "language_info": {
   "file_extension": ".jl",
   "mimetype": "application/julia",
   "name": "julia",
   "version": "1.2.0"
  }
 },
 "nbformat": 4,
 "nbformat_minor": 2
}
