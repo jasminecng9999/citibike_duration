{
 "cells": [
  {
   "cell_type": "code",
   "execution_count": 37,
   "metadata": {},
   "outputs": [],
   "source": [
    "import pandas as pd\n",
    "import sklearn.model_selection as ms\n",
    "import sklearn\n",
    "from sklearn.linear_model import LinearRegression"
   ]
  },
  {
   "cell_type": "code",
   "execution_count": 103,
   "metadata": {},
   "outputs": [],
   "source": [
    "df = pd.read_csv(\"workable_df.csv\")"
   ]
  },
  {
   "cell_type": "code",
   "execution_count": 104,
   "metadata": {},
   "outputs": [],
   "source": [
    "df.gender = df['gender'].apply(str)\n",
    "df.user_type = df['user_type'].apply(str)\n",
    "df.start_station_id = df['start_station_id'].apply(str)"
   ]
  },
  {
   "cell_type": "code",
   "execution_count": 105,
   "metadata": {},
   "outputs": [],
   "source": [
    "binary = []\n",
    "for i in range(len(df)):\n",
    "    if df['trip_duration'][i] < 3600:\n",
    "        binary.append('0')\n",
    "    else:\n",
    "        binary.append('1')"
   ]
  },
  {
   "cell_type": "code",
   "execution_count": 108,
   "metadata": {},
   "outputs": [],
   "source": [
    "df['over_1_hr'] = binary"
   ]
  },
  {
   "cell_type": "code",
   "execution_count": 109,
   "metadata": {},
   "outputs": [
    {
     "data": {
      "text/plain": [
       "trip_duration                      int64\n",
       "start_month                        int64\n",
       "start_hour                         int64\n",
       "birth_year                         int64\n",
       "total_precipitation_inches       float64\n",
       "average_temperature_farenheit    float64\n",
       "total_snowfall_inches            float64\n",
       "median_rental_price              float64\n",
       "start_station_id_119               uint8\n",
       "start_station_id_120               uint8\n",
       "start_station_id_127               uint8\n",
       "start_station_id_128               uint8\n",
       "start_station_id_143               uint8\n",
       "start_station_id_144               uint8\n",
       "start_station_id_146               uint8\n",
       "start_station_id_150               uint8\n",
       "start_station_id_151               uint8\n",
       "start_station_id_152               uint8\n",
       "start_station_id_157               uint8\n",
       "start_station_id_161               uint8\n",
       "start_station_id_164               uint8\n",
       "start_station_id_167               uint8\n",
       "start_station_id_168               uint8\n",
       "start_station_id_173               uint8\n",
       "start_station_id_174               uint8\n",
       "start_station_id_195               uint8\n",
       "start_station_id_2000              uint8\n",
       "start_station_id_2001              uint8\n",
       "start_station_id_2002              uint8\n",
       "start_station_id_2003              uint8\n",
       "                                  ...   \n",
       "start_station_id_525               uint8\n",
       "start_station_id_526               uint8\n",
       "start_station_id_527               uint8\n",
       "start_station_id_528               uint8\n",
       "start_station_id_529               uint8\n",
       "start_station_id_530               uint8\n",
       "start_station_id_531               uint8\n",
       "start_station_id_532               uint8\n",
       "start_station_id_533               uint8\n",
       "start_station_id_534               uint8\n",
       "start_station_id_536               uint8\n",
       "start_station_id_537               uint8\n",
       "start_station_id_539               uint8\n",
       "start_station_id_540               uint8\n",
       "start_station_id_545               uint8\n",
       "start_station_id_546               uint8\n",
       "start_station_id_72                uint8\n",
       "start_station_id_79                uint8\n",
       "start_station_id_82                uint8\n",
       "start_station_id_83                uint8\n",
       "user_type_\"Subscriber\"             uint8\n",
       "gender_1                           uint8\n",
       "gender_2                           uint8\n",
       "week_day_Monday                    uint8\n",
       "week_day_Saturday                  uint8\n",
       "week_day_Sunday                    uint8\n",
       "week_day_Thursday                  uint8\n",
       "week_day_Tuesday                   uint8\n",
       "week_day_Wednesday                 uint8\n",
       "over_1_hr_1                        uint8\n",
       "Length: 828, dtype: object"
      ]
     },
     "execution_count": 109,
     "metadata": {},
     "output_type": "execute_result"
    }
   ],
   "source": [
    "df1 = df.drop('start_hour_sq', axis = 1)\n",
    "df1 = df1.drop('start_month_sq', axis = 1)\n",
    "df1 = pd.get_dummies(df1,drop_first=True)\n",
    "df1 = df1.drop('median_sale_price', axis = 1)\n",
    "df1 = df1.dropna(axis=0)\n",
    "df1.dtypes"
   ]
  },
  {
   "cell_type": "code",
   "execution_count": 116,
   "metadata": {},
   "outputs": [
    {
     "data": {
      "text/plain": [
       "DecisionTreeClassifier(class_weight=None, criterion='gini', max_depth=None,\n",
       "            max_features=None, max_leaf_nodes=None,\n",
       "            min_impurity_decrease=0.0, min_impurity_split=None,\n",
       "            min_samples_leaf=1, min_samples_split=2,\n",
       "            min_weight_fraction_leaf=0.0, presort=False, random_state=58,\n",
       "            splitter='best')"
      ]
     },
     "execution_count": 116,
     "metadata": {},
     "output_type": "execute_result"
    }
   ],
   "source": [
    "from sklearn.tree import DecisionTreeClassifier \n",
    "\n",
    "X = df1.drop('trip_duration', axis = 1)\n",
    "X = X.drop('over_1_hr_1', axis = 1)\n",
    "y = df1['over_1_hr_1']\n",
    "X_train, X_test, y_train, y_test = ms.train_test_split(X, y, test_size=0.2, random_state=292)\n",
    "\n",
    "# BAD classifier = DecisionTreeClassifier(random_state = 58, class_weight = 'balanced')  \n",
    "classifier = DecisionTreeClassifier(random_state = 58)  \n",
    "# fit the regressor with X and Y data \n",
    "classifier.fit(X_train, y_train) "
   ]
  },
  {
   "cell_type": "code",
   "execution_count": 117,
   "metadata": {},
   "outputs": [
    {
     "data": {
      "text/plain": [
       "array([[114351,   1088],\n",
       "       [   881,     90]])"
      ]
     },
     "execution_count": 117,
     "metadata": {},
     "output_type": "execute_result"
    }
   ],
   "source": [
    "#Confusion matrix. This model is bad. \n",
    "ypred = classifier.predict(X_test)\n",
    "from sklearn import metrics\n",
    "sklearn.metrics.confusion_matrix(y_test, ypred)"
   ]
  },
  {
   "cell_type": "code",
   "execution_count": 118,
   "metadata": {},
   "outputs": [],
   "source": [
    "X = df1.drop('trip_duration', axis = 1)\n",
    "y = df1['trip_duration']\n",
    "X_train, X_test, y_train, y_test = ms.train_test_split(X, y, test_size=0.2, random_state=292)"
   ]
  },
  {
   "cell_type": "code",
   "execution_count": 124,
   "metadata": {},
   "outputs": [
    {
     "data": {
      "text/plain": [
       "DecisionTreeRegressor(criterion='mse', max_depth=6, max_features=None,\n",
       "           max_leaf_nodes=None, min_impurity_decrease=0.0,\n",
       "           min_impurity_split=None, min_samples_leaf=1,\n",
       "           min_samples_split=2, min_weight_fraction_leaf=0.0,\n",
       "           presort=False, random_state=5, splitter='best')"
      ]
     },
     "execution_count": 124,
     "metadata": {},
     "output_type": "execute_result"
    }
   ],
   "source": [
    "from sklearn.tree import DecisionTreeRegressor  \n",
    "\n",
    "#Only for < 3600 seconds. \n",
    "df = df[df['trip_duration']<3600]\n",
    "\n",
    "# create a regressor object \n",
    "regressor = DecisionTreeRegressor(random_state = 5, max_depth = 6)  \n",
    "  \n",
    "# fit the regressor with X and Y data \n",
    "regressor.fit(X_train, y_train) "
   ]
  },
  {
   "cell_type": "code",
   "execution_count": 125,
   "metadata": {},
   "outputs": [],
   "source": [
    "y_pred = regressor.predict(X_test)"
   ]
  },
  {
   "cell_type": "code",
   "execution_count": 126,
   "metadata": {},
   "outputs": [
    {
     "data": {
      "text/plain": [
       "603.3350794442416"
      ]
     },
     "execution_count": 126,
     "metadata": {},
     "output_type": "execute_result"
    }
   ],
   "source": [
    "#Test MAE\n",
    "sum(abs(y_pred-y_test)) / len(y_test)"
   ]
  },
  {
   "cell_type": "code",
   "execution_count": 127,
   "metadata": {},
   "outputs": [
    {
     "data": {
      "text/plain": [
       "553.7402600082179"
      ]
     },
     "execution_count": 127,
     "metadata": {},
     "output_type": "execute_result"
    }
   ],
   "source": [
    "#Train MAE #Slightly better fit, not necessarily overfit. \n",
    "sum(abs(regressor.predict(X_train)-y_train)) / len(y_train)"
   ]
  },
  {
   "cell_type": "code",
   "execution_count": null,
   "metadata": {},
   "outputs": [],
   "source": []
  }
 ],
 "metadata": {
  "kernelspec": {
   "display_name": "Python 3",
   "language": "python",
   "name": "python3"
  }
 },
 "nbformat": 4,
 "nbformat_minor": 2
}
