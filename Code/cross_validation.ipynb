{
 "cells": [
  {
   "cell_type": "markdown",
   "metadata": {},
   "source": [
    "The following code uses cross validation with 3 folds to determine a model with the best misclassification rate for 3 logistic loss functions with L1, L2, and no regularizers. Additionally, a hinge loss model with quadratic regularization is tested. The classifier is very unbalanced (Less than 1% of the data is for trips greater than 3600 seconds). All cross validation methods pick the test set with no trips greater than 3600 seconds so that the misclassification rate is easily 0. From this, we conclude that trips greater than 3600 seconds are outliers. "
   ]
  },
  {
   ]
  },
  {
   "cell_type": "code",
   "execution_count": 1,
   "metadata": {},
   "outputs": [],
   "source": [
    "using Pkg\n",
    "using Random\n",
    "Random.seed!(13)\n",
    "using Dates\n",
    "using LinearAlgebra, SparseArrays, LowRankModels\n",
    "include(\"proxgrad.jl\")\n",
    "using CSV\n",
    "using Plots\n",
    "using DataFrames\n",
    "using Statistics\n",
    "using LinearAlgebra\n",
    "using MLBase"
   ]
  },
  {
   "cell_type": "code",
   "execution_count": 2,
   "metadata": {},
   "outputs": [],
   "source": [
    "df = CSV.read(\"BikeWeatherZillow.csv\");"
   ]
  },
  {
   "cell_type": "markdown",
   "metadata": {},
   "source": [
    "### Addition of Day of the Week"
   ]
  },
  {
   "cell_type": "code",
   "execution_count": 3,
   "metadata": {},
   "outputs": [],
   "source": [
    "df[!, :week_day]=dayname.(DateTime.(2018, df[:, :start_month], df[:, :start_day]));"
   ]
  },
  {
   "cell_type": "markdown",
   "metadata": {},
   "source": [
    "### Deletion of Redundant Features"
   ]
  },
  {
   "cell_type": "code",
   "execution_count": 4,
   "metadata": {},
   "outputs": [
    {
     "name": "stderr",
     "output_type": "stream",
     "text": [
      "┌ Warning: `delete!(df::AbstractDataFrame, cols::Any)` is deprecated, use `select!(df, Not(cols))` instead.\n",
      "│   caller = top-level scope at In[4]:1\n",
      "└ @ Core In[4]:1\n",
      "┌ Warning: `delete!(df::AbstractDataFrame, cols::Any)` is deprecated, use `select!(df, Not(cols))` instead.\n",
      "│   caller = top-level scope at In[4]:2\n",
      "└ @ Core In[4]:2\n",
      "┌ Warning: `delete!(df::AbstractDataFrame, cols::Any)` is deprecated, use `select!(df, Not(cols))` instead.\n",
      "│   caller = top-level scope at In[4]:3\n",
      "└ @ Core In[4]:3\n",
      "┌ Warning: `delete!(df::AbstractDataFrame, cols::Any)` is deprecated, use `select!(df, Not(cols))` instead.\n",
      "│   caller = top-level scope at In[4]:4\n",
      "└ @ Core In[4]:4\n",
      "┌ Warning: `delete!(df::AbstractDataFrame, cols::Any)` is deprecated, use `select!(df, Not(cols))` instead.\n",
      "│   caller = top-level scope at In[4]:5\n",
      "└ @ Core In[4]:5\n"
     ]
    }
   ],
   "source": [
    "delete!(df, :start_day)\n",
    "delete!(df, :start_min)\n",
    "delete!(df, :start_station_latitude)\n",
    "delete!(df, :start_station_longitude)\n",
    "delete!(df, :start_station_zipcode);"
   ]
  },
  {
   "cell_type": "markdown",
   "metadata": {},
   "source": [
    "We decided to now use longitude, latitude, or zipcode because it confounds with start_station_id, which is more granular than the other 2 geographic choices. "
   ]
  },
  {
   "cell_type": "markdown",
   "metadata": {},
   "source": [
    "### Casting of Types"
   ]
  },
  {
   "cell_type": "code",
   "execution_count": 5,
   "metadata": {},
   "outputs": [],
   "source": [
    "df[!, :start_month]=string.(df[!, :start_month])\n",
    "df[!, :start_station_id]=string.(df[!, :start_station_id])\n",
    "df[!, :gender]=string.(df[!, :gender]);"
   ]
  },
  {
   "cell_type": "code",
   "execution_count": 6,
   "metadata": {},
   "outputs": [
    {
     "name": "stdout",
     "output_type": "stream",
     "text": [
      "1\ttrip_duration\t\t\tInt64\n",
      "2\tstart_month\t\t\tString\n",
      "3\tstart_hour\t\t\tInt64\n",
      "4\tstart_station_id\t\t\tString\n",
      "5\tuser_type\t\t\tString\n",
      "6\tbirth_year\t\t\tInt64\n",
      "7\tgender\t\t\tString\n",
      "8\ttotal_precipitation_inches\t\t\tFloat64\n",
      "9\taverage_temperature_farenheit\t\t\tFloat64\n",
      "10\ttotal_snowfall_inches\t\t\tFloat64\n",
      "11\tmedian_rental_price\t\t\tString\n",
      "12\tmedian_sale_price\t\t\tString\n",
      "13\tweek_day\t\t\tString\n"
     ]
    }
   ],
   "source": [
    "feature_names = names(df)\n",
    "for i in 1:length(feature_names)\n",
    "    println(string(i), \"\\t\", string(feature_names[i]), \"\\t\\t\\t\", string(eltype(df[!, i])))\n",
    "end"
   ]
  },
  {
   "cell_type": "markdown",
   "metadata": {},
   "source": [
    "# Train/Test Split"
   ]
  },
  {
   "cell_type": "code",
   "execution_count": 7,
   "metadata": {},
   "outputs": [
    {
     "name": "stdout",
     "output_type": "stream",
     "text": [
      "Size of dataset: 597780\n"
     ]
    },
    {
     "data": {
      "text/html": [
       "<table class=\"data-frame\"><thead><tr><th></th><th>start_month</th><th>start_hour</th><th>start_station_id</th><th>user_type</th><th>birth_year</th><th>gender</th><th>total_precipitation_inches</th></tr><tr><th></th><th>String</th><th>Int64</th><th>String</th><th>String</th><th>Int64</th><th>String</th><th>Float64</th></tr></thead><tbody><p>597,780 rows × 12 columns (omitted printing of 5 columns)</p><tr><th>1</th><td>2</td><td>16</td><td>3002</td><td>\"Subscriber\"</td><td>1964</td><td>2</td><td>0.67</td></tr><tr><th>2</th><td>1</td><td>16</td><td>519</td><td>\"Subscriber\"</td><td>1979</td><td>1</td><td>0.05</td></tr><tr><th>3</th><td>6</td><td>16</td><td>3472</td><td>\"Subscriber\"</td><td>1990</td><td>1</td><td>0.0</td></tr><tr><th>4</th><td>1</td><td>15</td><td>164</td><td>\"Subscriber\"</td><td>1969</td><td>1</td><td>0.0</td></tr><tr><th>5</th><td>4</td><td>7</td><td>3108</td><td>\"Subscriber\"</td><td>1970</td><td>1</td><td>0.02</td></tr><tr><th>6</th><td>2</td><td>7</td><td>3357</td><td>\"Subscriber\"</td><td>1966</td><td>1</td><td>0.68</td></tr><tr><th>7</th><td>6</td><td>17</td><td>359</td><td>\"Subscriber\"</td><td>1970</td><td>1</td><td>0.02</td></tr><tr><th>8</th><td>3</td><td>11</td><td>3140</td><td>\"Subscriber\"</td><td>1979</td><td>1</td><td>0.0</td></tr><tr><th>9</th><td>2</td><td>21</td><td>477</td><td>\"Subscriber\"</td><td>1964</td><td>1</td><td>0.0</td></tr><tr><th>10</th><td>6</td><td>18</td><td>442</td><td>\"Subscriber\"</td><td>1988</td><td>1</td><td>0.0</td></tr><tr><th>11</th><td>1</td><td>16</td><td>3002</td><td>\"Subscriber\"</td><td>1964</td><td>2</td><td>0.0</td></tr><tr><th>12</th><td>6</td><td>13</td><td>143</td><td>\"Subscriber\"</td><td>1955</td><td>1</td><td>0.02</td></tr><tr><th>13</th><td>10</td><td>18</td><td>303</td><td>\"Subscriber\"</td><td>1976</td><td>2</td><td>0.0</td></tr><tr><th>14</th><td>8</td><td>19</td><td>497</td><td>\"Subscriber\"</td><td>1958</td><td>1</td><td>0.02</td></tr><tr><th>15</th><td>2</td><td>13</td><td>3549</td><td>\"Subscriber\"</td><td>1988</td><td>1</td><td>0.06</td></tr><tr><th>16</th><td>1</td><td>17</td><td>3463</td><td>\"Subscriber\"</td><td>1991</td><td>1</td><td>0.04</td></tr><tr><th>17</th><td>8</td><td>9</td><td>319</td><td>\"Subscriber\"</td><td>1983</td><td>1</td><td>0.32</td></tr><tr><th>18</th><td>8</td><td>17</td><td>3427</td><td>\"Subscriber\"</td><td>1983</td><td>1</td><td>0.44</td></tr><tr><th>19</th><td>10</td><td>8</td><td>268</td><td>\"Subscriber\"</td><td>1990</td><td>2</td><td>0.0</td></tr><tr><th>20</th><td>3</td><td>17</td><td>314</td><td>\"Subscriber\"</td><td>1985</td><td>1</td><td>0.0</td></tr><tr><th>21</th><td>12</td><td>7</td><td>356</td><td>\"Subscriber\"</td><td>1999</td><td>1</td><td>0.02</td></tr><tr><th>22</th><td>9</td><td>9</td><td>519</td><td>\"Subscriber\"</td><td>1980</td><td>1</td><td>0.01</td></tr><tr><th>23</th><td>2</td><td>18</td><td>239</td><td>\"Subscriber\"</td><td>1995</td><td>1</td><td>0.02</td></tr><tr><th>24</th><td>6</td><td>12</td><td>456</td><td>\"Subscriber\"</td><td>1977</td><td>1</td><td>0.08</td></tr><tr><th>25</th><td>3</td><td>8</td><td>327</td><td>\"Subscriber\"</td><td>1986</td><td>1</td><td>0.0</td></tr><tr><th>26</th><td>3</td><td>23</td><td>540</td><td>\"Subscriber\"</td><td>1998</td><td>1</td><td>0.0</td></tr><tr><th>27</th><td>12</td><td>9</td><td>3656</td><td>\"Subscriber\"</td><td>1969</td><td>0</td><td>0.24</td></tr><tr><th>28</th><td>7</td><td>18</td><td>285</td><td>\"Subscriber\"</td><td>1990</td><td>2</td><td>0.04</td></tr><tr><th>29</th><td>2</td><td>13</td><td>3443</td><td>\"Subscriber\"</td><td>1981</td><td>1</td><td>0.15</td></tr><tr><th>30</th><td>3</td><td>18</td><td>346</td><td>\"Subscriber\"</td><td>1968</td><td>2</td><td>0.0</td></tr><tr><th>&vellip;</th><td>&vellip;</td><td>&vellip;</td><td>&vellip;</td><td>&vellip;</td><td>&vellip;</td><td>&vellip;</td><td>&vellip;</td></tr></tbody></table>"
      ],
      "text/latex": [
       "\\begin{tabular}{r|cccccccc}\n",
       "\t& start\\_month & start\\_hour & start\\_station\\_id & user\\_type & birth\\_year & gender & total\\_precipitation\\_inches & \\\\\n",
       "\t\\hline\n",
       "\t& String & Int64 & String & String & Int64 & String & Float64 & \\\\\n",
       "\t\\hline\n",
       "\t1 & 2 & 16 & 3002 & \"Subscriber\" & 1964 & 2 & 0.67 & $\\dots$ \\\\\n",
       "\t2 & 1 & 16 & 519 & \"Subscriber\" & 1979 & 1 & 0.05 & $\\dots$ \\\\\n",
       "\t3 & 6 & 16 & 3472 & \"Subscriber\" & 1990 & 1 & 0.0 & $\\dots$ \\\\\n",
       "\t4 & 1 & 15 & 164 & \"Subscriber\" & 1969 & 1 & 0.0 & $\\dots$ \\\\\n",
       "\t5 & 4 & 7 & 3108 & \"Subscriber\" & 1970 & 1 & 0.02 & $\\dots$ \\\\\n",
       "\t6 & 2 & 7 & 3357 & \"Subscriber\" & 1966 & 1 & 0.68 & $\\dots$ \\\\\n",
       "\t7 & 6 & 17 & 359 & \"Subscriber\" & 1970 & 1 & 0.02 & $\\dots$ \\\\\n",
       "\t8 & 3 & 11 & 3140 & \"Subscriber\" & 1979 & 1 & 0.0 & $\\dots$ \\\\\n",
       "\t9 & 2 & 21 & 477 & \"Subscriber\" & 1964 & 1 & 0.0 & $\\dots$ \\\\\n",
       "\t10 & 6 & 18 & 442 & \"Subscriber\" & 1988 & 1 & 0.0 & $\\dots$ \\\\\n",
       "\t11 & 1 & 16 & 3002 & \"Subscriber\" & 1964 & 2 & 0.0 & $\\dots$ \\\\\n",
       "\t12 & 6 & 13 & 143 & \"Subscriber\" & 1955 & 1 & 0.02 & $\\dots$ \\\\\n",
       "\t13 & 10 & 18 & 303 & \"Subscriber\" & 1976 & 2 & 0.0 & $\\dots$ \\\\\n",
       "\t14 & 8 & 19 & 497 & \"Subscriber\" & 1958 & 1 & 0.02 & $\\dots$ \\\\\n",
       "\t15 & 2 & 13 & 3549 & \"Subscriber\" & 1988 & 1 & 0.06 & $\\dots$ \\\\\n",
       "\t16 & 1 & 17 & 3463 & \"Subscriber\" & 1991 & 1 & 0.04 & $\\dots$ \\\\\n",
       "\t17 & 8 & 9 & 319 & \"Subscriber\" & 1983 & 1 & 0.32 & $\\dots$ \\\\\n",
       "\t18 & 8 & 17 & 3427 & \"Subscriber\" & 1983 & 1 & 0.44 & $\\dots$ \\\\\n",
       "\t19 & 10 & 8 & 268 & \"Subscriber\" & 1990 & 2 & 0.0 & $\\dots$ \\\\\n",
       "\t20 & 3 & 17 & 314 & \"Subscriber\" & 1985 & 1 & 0.0 & $\\dots$ \\\\\n",
       "\t21 & 12 & 7 & 356 & \"Subscriber\" & 1999 & 1 & 0.02 & $\\dots$ \\\\\n",
       "\t22 & 9 & 9 & 519 & \"Subscriber\" & 1980 & 1 & 0.01 & $\\dots$ \\\\\n",
       "\t23 & 2 & 18 & 239 & \"Subscriber\" & 1995 & 1 & 0.02 & $\\dots$ \\\\\n",
       "\t24 & 6 & 12 & 456 & \"Subscriber\" & 1977 & 1 & 0.08 & $\\dots$ \\\\\n",
       "\t25 & 3 & 8 & 327 & \"Subscriber\" & 1986 & 1 & 0.0 & $\\dots$ \\\\\n",
       "\t26 & 3 & 23 & 540 & \"Subscriber\" & 1998 & 1 & 0.0 & $\\dots$ \\\\\n",
       "\t27 & 12 & 9 & 3656 & \"Subscriber\" & 1969 & 0 & 0.24 & $\\dots$ \\\\\n",
       "\t28 & 7 & 18 & 285 & \"Subscriber\" & 1990 & 2 & 0.04 & $\\dots$ \\\\\n",
       "\t29 & 2 & 13 & 3443 & \"Subscriber\" & 1981 & 1 & 0.15 & $\\dots$ \\\\\n",
       "\t30 & 3 & 18 & 346 & \"Subscriber\" & 1968 & 2 & 0.0 & $\\dots$ \\\\\n",
       "\t$\\dots$ & $\\dots$ & $\\dots$ & $\\dots$ & $\\dots$ & $\\dots$ & $\\dots$ & $\\dots$ &  \\\\\n",
       "\\end{tabular}\n"
      ],
      "text/plain": [
       "597780×12 DataFrame. Omitted printing of 8 columns\n",
       "│ Row    │ start_month │ start_hour │ start_station_id │ user_type    │\n",
       "│        │ \u001b[90mString\u001b[39m      │ \u001b[90mInt64\u001b[39m      │ \u001b[90mString\u001b[39m           │ \u001b[90mString\u001b[39m       │\n",
       "├────────┼─────────────┼────────────┼──────────────────┼──────────────┤\n",
       "│ 1      │ 2           │ 16         │ 3002             │ \"Subscriber\" │\n",
       "│ 2      │ 1           │ 16         │ 519              │ \"Subscriber\" │\n",
       "│ 3      │ 6           │ 16         │ 3472             │ \"Subscriber\" │\n",
       "│ 4      │ 1           │ 15         │ 164              │ \"Subscriber\" │\n",
       "│ 5      │ 4           │ 7          │ 3108             │ \"Subscriber\" │\n",
       "│ 6      │ 2           │ 7          │ 3357             │ \"Subscriber\" │\n",
       "│ 7      │ 6           │ 17         │ 359              │ \"Subscriber\" │\n",
       "│ 8      │ 3           │ 11         │ 3140             │ \"Subscriber\" │\n",
       "│ 9      │ 2           │ 21         │ 477              │ \"Subscriber\" │\n",
       "│ 10     │ 6           │ 18         │ 442              │ \"Subscriber\" │\n",
       "⋮\n",
       "│ 597770 │ 10          │ 8          │ 497              │ \"Subscriber\" │\n",
       "│ 597771 │ 3           │ 16         │ 2021             │ \"Subscriber\" │\n",
       "│ 597772 │ 1           │ 20         │ 254              │ \"Subscriber\" │\n",
       "│ 597773 │ 12          │ 20         │ 3711             │ \"Subscriber\" │\n",
       "│ 597774 │ 12          │ 10         │ 3300             │ \"Subscriber\" │\n",
       "│ 597775 │ 3           │ 21         │ 3338             │ \"Subscriber\" │\n",
       "│ 597776 │ 12          │ 15         │ 3132             │ \"Subscriber\" │\n",
       "│ 597777 │ 3           │ 11         │ 3296             │ \"Subscriber\" │\n",
       "│ 597778 │ 2           │ 11         │ 387              │ \"Subscriber\" │\n",
       "│ 597779 │ 7           │ 6          │ 2012             │ \"Subscriber\" │\n",
       "│ 597780 │ 6           │ 18         │ 3117             │ \"Subscriber\" │"
      ]
     },
     "execution_count": 7,
     "metadata": {},
     "output_type": "execute_result"
    }
   ],
   "source": [
    "df = df[shuffle(1:end), :] # we shuffle the data so that our train/test split will be truly random\n",
    "\n",
    "println(\"Size of dataset: \", string(n))\n",
    "\n",
    "#response variable\n",
    "target = df[:, :trip_duration] \n",
    "#explanatory variables\n",
    "data = df[:, filter(col -> (col != :trip_duration), feature_names)]"
   ]
  },
  {
   "cell_type": "markdown",
   "metadata": {},
   "source": [
    "# Turning the Data into a Matrix with One Hot Encoding:"
   ]
  },
  {
   "cell_type": "code",
   "execution_count": 15,
   "metadata": {},
   "outputs": [],
   "source": [
    "\"Computes a onehot vector for every entry in column given a set of categories cats\"\n",
    "function onehot(column, cats=unique(column))\n",
    "    result = zeros(size(column, 1),size(cats, 1))\n",
    "    for i in 1:size(column, 1)\n",
    "        for j in 1:(size(cats, 1))\n",
    "            if(column[i]==cats[j])\n",
    "                result[i,j]=1  \n",
    "            end\n",
    "        end\n",
    "    end\n",
    "    return result\n",
    "end;"
   ]
  },
  {
   "cell_type": "code",
   "execution_count": 14,
   "metadata": {},
   "outputs": [
    {
     "data": {
      "text/plain": [
       "597780×841 Array{Float64,2}:\n",
       " 1.0  0.0  0.0  0.0  0.0  0.0  0.0  …  16.0  1964.0  0.67  42.8  0.0   1.0\n",
       " 0.0  1.0  0.0  0.0  0.0  0.0  0.0     16.0  1979.0  0.05  30.5  0.43  1.0\n",
       " 0.0  0.0  1.0  0.0  0.0  0.0  0.0     16.0  1990.0  0.0   73.8  0.0   1.0\n",
       " 0.0  1.0  0.0  0.0  0.0  0.0  0.0     15.0  1969.0  0.0   33.7  0.0   1.0\n",
       " 0.0  0.0  0.0  1.0  0.0  0.0  0.0      7.0  1970.0  0.02  46.7  0.0   1.0\n",
       " 1.0  0.0  0.0  0.0  0.0  0.0  0.0  …   7.0  1966.0  0.68  32.5  2.94  1.0\n",
       " 0.0  0.0  1.0  0.0  0.0  0.0  0.0     17.0  1970.0  0.02  69.9  0.0   1.0\n",
       " 0.0  0.0  0.0  0.0  1.0  0.0  0.0     11.0  1979.0  0.0   35.5  0.0   1.0\n",
       " 1.0  0.0  0.0  0.0  0.0  0.0  0.0     21.0  1964.0  0.0   31.6  0.0   1.0\n",
       " 0.0  0.0  1.0  0.0  0.0  0.0  0.0     18.0  1988.0  0.0   62.9  0.0   1.0\n",
       " 0.0  1.0  0.0  0.0  0.0  0.0  0.0  …  16.0  1964.0  0.0   44.8  0.0   1.0\n",
       " 0.0  0.0  1.0  0.0  0.0  0.0  0.0     13.0  1955.0  0.02  77.7  0.0   1.0\n",
       " 0.0  0.0  0.0  0.0  0.0  1.0  0.0     18.0  1976.0  0.0   69.7  0.0   1.0\n",
       " ⋮                        ⋮         ⋱   ⋮                              ⋮  \n",
       " 0.0  0.0  0.0  0.0  0.0  0.0  0.0     20.0  1967.0  0.49  70.4  0.0   1.0\n",
       " 0.0  0.0  0.0  0.0  0.0  1.0  0.0      8.0  1984.0  0.0   71.2  0.0   1.0\n",
       " 0.0  0.0  0.0  0.0  1.0  0.0  0.0  …  16.0  1969.0  0.0   38.6  0.0   1.0\n",
       " 0.0  1.0  0.0  0.0  0.0  0.0  0.0     20.0  1976.0  0.0   25.1  0.0   1.0\n",
       " 0.0  0.0  0.0  0.0  0.0  0.0  0.0     20.0  1987.0  0.0   34.2  0.0   1.0\n",
       " 0.0  0.0  0.0  0.0  0.0  0.0  0.0     10.0  1988.0  0.49  50.2  0.0   1.0\n",
       " 0.0  0.0  0.0  0.0  1.0  0.0  0.0     21.0  1953.0  0.0   41.0  0.0   1.0\n",
       " 0.0  0.0  0.0  0.0  0.0  0.0  0.0  …  15.0  1962.0  0.0   35.6  0.0   1.0\n",
       " 0.0  0.0  0.0  0.0  1.0  0.0  0.0     11.0  1964.0  0.0   34.7  0.0   1.0\n",
       " 1.0  0.0  0.0  0.0  0.0  0.0  0.0     11.0  1982.0  0.0   31.7  0.0   1.0\n",
       " 0.0  0.0  0.0  0.0  0.0  0.0  0.0      6.0  1990.0  0.0   76.5  0.0   1.0\n",
       " 0.0  0.0  1.0  0.0  0.0  0.0  0.0     18.0  1972.0  0.03  70.2  0.0   1.0"
      ]
     },
     "execution_count": 14,
     "metadata": {},
     "output_type": "execute_result"
    }
   ],
   "source": [
    "real_labs = [\n",
    "    :start_hour,\n",
    "    :birth_year,\n",
    "    :total_precipitation_inches,\n",
    "    :average_temperature_farenheit,\n",
    "    :total_snowfall_inches\n",
    "]\n",
    "real = data[:, filter(x -> (x in real_labs), names(df))]\n",
    "xReal = convert(Matrix, hcat(real, ones(length(real[:, 1]))))\n",
    "cat_labels = [\n",
    "    :start_month,\n",
    "    :start_station_id,\n",
    "    :user_type,\n",
    "    :gender,\n",
    "    :week_day\n",
    "]\n",
    "\n",
    "cats_sets = [unique(data[:, label]) for label in cat_labels]\n",
    "xCat = hcat([onehot(data[:, cat_labels[i]], cats_sets[i]) for i in 1:size(cat_labels, 1)]...)\n",
    "X = hcat(convert(Matrix, xCat), xReal)"
   ]
  },
  {
   "cell_type": "markdown",
   "metadata": {},
   "source": [
    "# Function to Create a Binary Vector"
   ]
  },
  {
   "cell_type": "code",
   "execution_count": 16,
   "metadata": {},
   "outputs": [
    {
     "data": {
      "text/plain": [
       "toBool (generic function with 1 method)"
      ]
     },
     "execution_count": 16,
     "metadata": {},
     "output_type": "execute_result"
    }
   ],
   "source": [
    "#determines if each entry is above or below the cutoff in a vector \n",
    "function toBool(y, cutoff)\n",
    "    for i in 1:length(y)\n",
    "        if y[i]<= cutoff\n",
    "            y[i]=-1\n",
    "        else\n",
    "            y[i]=1\n",
    "        end\n",
    "    end\n",
    "    return y\n",
    "end"
   ]
  },
  {
   "cell_type": "markdown",
   "metadata": {},
   "source": [
    "## Logistic Loss"
   ]
  },
  {
   "cell_type": "code",
   "execution_count": 30,
   "metadata": {},
   "outputs": [
    {
     "data": {
      "text/plain": [
       "logReg (generic function with 1 method)"
      ]
     },
     "execution_count": 30,
     "metadata": {},
     "output_type": "execute_result"
    }
   ],
   "source": [
    "#y MUST be a one dimensional vector\n",
    "function logReg(x, y)\n",
    "    yNew = toBool(y, 3600)\n",
    "    n = length(yNew)\n",
    "    loss = 1/n * LogisticLoss()\n",
    "    lambda = 0.5\n",
    "    reg = lambda * QuadReg()\n",
    "    w = proxgrad(loss, reg, x, yNew, maxiters=1000)\n",
    "    return w\n",
    "end"
   ]
  },
  {
   "cell_type": "markdown",
   "metadata": {},
   "source": [
    "## Logistic Loss with no regularization"
   ]
  },
  {
   "cell_type": "code",
   "execution_count": 26,
   "metadata": {},
   "outputs": [
    {
     "data": {
      "text/plain": [
       "logReg_noreg (generic function with 1 method)"
      ]
     },
     "execution_count": 26,
     "metadata": {},
     "output_type": "execute_result"
    }
   ],
   "source": [
    "#Logistic Loss with no regularization\n",
    "function logReg_noreg(x, y)\n",
    "    yNew = toBool(y, 3600)\n",
    "    n = length(yNew)\n",
    "    loss = 1/n * LogisticLoss()\n",
    "    reg = ZeroReg()\n",
    "    w = proxgrad(loss, reg, x, yNew, maxiters=1000)\n",
    "    return w\n",
    "end"
   ]
  },
  {
   "cell_type": "markdown",
   "metadata": {},
   "source": [
    "## Logistics Loss with L1 regularization"
   ]
  },
  {
   "cell_type": "code",
   "execution_count": 32,
   "metadata": {},
   "outputs": [
    {
     "data": {
      "text/plain": [
       "log_l1 (generic function with 1 method)"
      ]
     },
     "execution_count": 32,
     "metadata": {},
     "output_type": "execute_result"
    }
   ],
   "source": [
    "function log_l1(x, y)\n",
    "    yNew = toBool(y, 3600)\n",
    "    n = length(yNew)\n",
    "    loss = 1/n * LogisticLoss()\n",
    "    reg =  OneReg()\n",
    "    w = proxgrad(loss, reg, x, yNew, maxiters=100)\n",
    "    return w\n",
    "end"
   ]
  },
  {
   "cell_type": "markdown",
   "metadata": {},
   "source": [
    "## Hinge Loss"
   ]
  },
  {
   "cell_type": "code",
   "execution_count": 34,
   "metadata": {},
   "outputs": [
    {
     "data": {
      "text/plain": [
       "hingeLoss (generic function with 1 method)"
      ]
     },
     "execution_count": 34,
     "metadata": {},
     "output_type": "execute_result"
    }
   ],
   "source": [
    "function hingeLoss(x, y)\n",
    "    yNew = toBool(y, 3600)\n",
    "    n = length(yNew)\n",
    "    loss = 1/n * HingeLoss()\n",
    "    lambda = 0.5\n",
    "    reg = lambda * QuadReg()\n",
    "    w = proxgrad(loss, reg, x, yNew, maxiters=1000)\n",
    "    return w\n",
    "end"
   ]
  },
  {
   "cell_type": "markdown",
   "metadata": {},
   "source": [
    "# Cross Validation "
   ]
  },
  {
   "cell_type": "code",
   "execution_count": 45,
   "metadata": {},
   "outputs": [
    {
     "data": {
      "text/plain": [
       "crossValidate (generic function with 1 method)"
      ]
     },
     "execution_count": 45,
     "metadata": {},
     "output_type": "execute_result"
    }
   ],
   "source": [
    "function crossValidate(x, y, n)\n",
    "    train_ind = collect(Kfold(length(y), n))\n",
    "    len = length(y)\n",
    "    wid = length(x[1,:])\n",
    "    wBest = zeros(wid)\n",
    "    currErr = 60*60+1\n",
    "    bestErr = currErr\n",
    "    wCurr = zeros(wid)\n",
    "    for i in 1:n\n",
    "        test_ind = setdiff(1:n, train_ind[i])\n",
    "        trainX = x[train_ind[i], :]\n",
    "        testX = x[test_ind, :]\n",
    "        trainY = y[train_ind[i]]\n",
    "        testY = y[test_ind]\n",
    "        wCurr = hingeLoss(trainX, trainY)               #Change this line to desired function\n",
    "        currErr = misclassification(testX, testY, wCurr)\n",
    "        if currErr < bestErr\n",
    "            bestErr = currErr\n",
    "            wBest = wCurr\n",
    "        end\n",
    "    end\n",
    "    return wBest, bestErr\n",
    "end"
   ]
  },
  {
   "cell_type": "markdown",
   "metadata": {},
   "source": [
    "## Misclassification Rate"
   ]
  },
  {
   "cell_type": "code",
   "execution_count": 29,
   "metadata": {},
   "outputs": [
    {
     "data": {
      "text/plain": [
       "misclassification1 (generic function with 1 method)"
      ]
     },
     "execution_count": 29,
     "metadata": {},
     "output_type": "execute_result"
    }
   ],
   "source": [
    "# calculates the misclassification rate of a model\n",
    "function misclassification(X, y, w)\n",
    "    n = size(X,1)\n",
    "    origY = toBool(y, 3600)\n",
    "    newY = toBool(y, 0)\n",
    "    mis = 0\n",
    "    for i in 1:n\n",
    "        if(origY[i] != newY[i])\n",
    "            mis += 1/n\n",
    "        end\n",
    "    end\n",
    "    return round(mis, digits=4)\n",
    "end"
   ]
  },
  {
   "cell_type": "markdown",
   "metadata": {},
   "source": [
    "## Function Calls"
   ]
  },
  {
   "cell_type": "code",
   "execution_count": 22,
   "metadata": {},
   "outputs": [
    {
     "data": {
      "text/plain": [
       "([-1.042716996239396e-5, -1.588127003614895e-5, 1.0421272785230963e-5, 7.653004851365726e-6, -1.5356332816790094e-6, -8.338129565805937e-6, 9.155730402559746e-7, -9.629875777393462e-6, 5.658150421276018e-6, 1.0700888691295305e-5  …  -1.490864084278504e-5, -7.555384582258645e-6, -6.186338250347737e-6, -1.4561564497463593e-5, -8.128240416746967e-5, -0.003016622451903343, -1.3823152883294088e-6, 0.001479113277729779, -2.7515214389139078e-6, -1.1406895608615365e-6], 0.0)"
      ]
     },
     "execution_count": 22,
     "metadata": {},
     "output_type": "execute_result"
    }
   ],
   "source": [
    "w_logReg, error_logReg = crossValidate(X,target, 3)"
   ]
  },
  {
   "cell_type": "code",
   "execution_count": 28,
   "metadata": {},
   "outputs": [
    {
     "data": {
      "text/plain": [
       "([-9.766135227305574e-6, -1.6790114180676412e-5, 1.1344333601960038e-5, 8.165087461190189e-6, -2.567915209265128e-6, -1.0625449424391978e-5, 8.901429453794082e-7, -8.00293652630193e-6, 3.2976785095220045e-6, 9.019845322698985e-6  …  -1.3694303450085112e-5, -8.557017579974919e-6, -4.650122509993374e-6, -1.2599154653854922e-5, -5.288189448437128e-5, -0.0030288903165597517, 1.798213041267922e-7, 0.0014526068733458988, -2.805960132377823e-6, -1.171633379395286e-6], 0.0)"
      ]
     },
     "execution_count": 28,
     "metadata": {},
     "output_type": "execute_result"
    }
   ],
   "source": [
    "w_logReg_noreg, error_logReg_noreg = crossValidate(X,target, 3)"
   ]
  },
  {
   "cell_type": "code",
   "execution_count": 43,
   "metadata": {},
   "outputs": [
    {
     "data": {
      "text/plain": [
       "([0.0, 0.0, 0.0, 0.0, 0.0, 0.0, 0.0, 0.0, 0.0, 0.0  …  0.0, 0.0, 0.0, 0.0, 0.0, -0.002370543990590287, 0.0, 0.0, 0.0, 0.0], 0.0)"
      ]
     },
     "execution_count": 43,
     "metadata": {},
     "output_type": "execute_result"
    }
   ],
   "source": [
    "w_log_l1, error_log_l1 = crossValidate(X,target, 3)"
   ]
  },
  {
   "cell_type": "code",
   "execution_count": 48,
   "metadata": {},
   "outputs": [
    {
     "data": {
      "text/plain": [
       "([-6.386041084038622e-7, -9.328262202489706e-7, 5.987350942871378e-7, 2.853874102059842e-7, -4.864225046413742e-7, -6.321441179517944e-8, 2.8216465679726344e-7, -4.502825383846242e-7, 3.358756218864266e-7, 4.284928968253213e-7  …  -8.48886496714518e-7, -4.144879440334566e-7, -2.85900543805101e-7, -7.402645744924923e-7, -2.3845823543902846e-6, -0.0005152796742550165, -1.9500162569416545e-7, 7.657022992474948e-5, -1.7946716861046202e-7, -2.4666547181012736e-7], 0.0)"
      ]
     },
     "execution_count": 48,
     "metadata": {},
     "output_type": "execute_result"
    }
   ],
   "source": [
    "w_hingeLoss, error_hingeLoss = crossValidate(X,target, 3)"
   ]
  }
 ],
 "metadata": {
  "kernelspec": {
   "display_name": "Julia 1.2.0",
   "language": "julia",
   "name": "julia-1.2"
  },
  "language_info": {
   "file_extension": ".jl",
   "mimetype": "application/julia",
   "name": "julia",
   "version": "1.2.0"
  }
 },
 "nbformat": 4,
 "nbformat_minor": 2
}
